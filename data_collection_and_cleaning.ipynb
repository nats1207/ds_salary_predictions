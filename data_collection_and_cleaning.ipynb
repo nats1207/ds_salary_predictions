{
 "cells": [
  {
   "cell_type": "code",
   "execution_count": 5,
   "metadata": {},
   "outputs": [],
   "source": [
    "import glassdoor_webscraper as gws"
   ]
  },
  {
   "cell_type": "code",
   "execution_count": 6,
   "metadata": {},
   "outputs": [
    {
     "name": "stdout",
     "output_type": "stream",
     "text": [
      "Progress: 0/2\n",
      "Progress: 1/2\n",
      "Progress: 2/2\n"
     ]
    },
    {
     "data": {
      "text/html": [
       "<div>\n",
       "<style scoped>\n",
       "    .dataframe tbody tr th:only-of-type {\n",
       "        vertical-align: middle;\n",
       "    }\n",
       "\n",
       "    .dataframe tbody tr th {\n",
       "        vertical-align: top;\n",
       "    }\n",
       "\n",
       "    .dataframe thead th {\n",
       "        text-align: right;\n",
       "    }\n",
       "</style>\n",
       "<table border=\"1\" class=\"dataframe\">\n",
       "  <thead>\n",
       "    <tr style=\"text-align: right;\">\n",
       "      <th></th>\n",
       "      <th>company_name</th>\n",
       "      <th>location</th>\n",
       "      <th>job_title</th>\n",
       "      <th>salary</th>\n",
       "      <th>salaray_range</th>\n",
       "      <th>size</th>\n",
       "      <th>founded</th>\n",
       "      <th>type_of_ownership</th>\n",
       "      <th>industry</th>\n",
       "      <th>sector</th>\n",
       "      <th>revenue</th>\n",
       "    </tr>\n",
       "  </thead>\n",
       "  <tbody>\n",
       "    <tr>\n",
       "      <th>0</th>\n",
       "      <td>a.s.r.\\n4.2</td>\n",
       "      <td>Utrecht</td>\n",
       "      <td>Data Scientist</td>\n",
       "      <td>€ 4.050 /mnd (schatting)</td>\n",
       "      <td>Salaris opgegeven door werknemer:€ 3K - € 5K</td>\n",
       "      <td>1001 tot 5000 werknemers</td>\n",
       "      <td>1720</td>\n",
       "      <td>Privébedrijf</td>\n",
       "      <td>Verzekeringsmaatschappijen</td>\n",
       "      <td>Verzekeringen</td>\n",
       "      <td>Minder dan 1 miljoen USD</td>\n",
       "    </tr>\n",
       "    <tr>\n",
       "      <th>1</th>\n",
       "      <td>Ordina\\n4.0</td>\n",
       "      <td>Nieuwegein</td>\n",
       "      <td>Data Scientist</td>\n",
       "      <td></td>\n",
       "      <td>€ 1K (Schatting werkgever)</td>\n",
       "      <td>1001 tot 5000 werknemers</td>\n",
       "      <td>1973</td>\n",
       "      <td>Beursgenoteerd bedrijf</td>\n",
       "      <td>IT-ondersteuning</td>\n",
       "      <td>IT</td>\n",
       "      <td>100-500 miljoen USD</td>\n",
       "    </tr>\n",
       "  </tbody>\n",
       "</table>\n",
       "</div>"
      ],
      "text/plain": [
       "  company_name    location       job_title                    salary  \\\n",
       "0  a.s.r.\\n4.2     Utrecht  Data Scientist  € 4.050 /mnd (schatting)   \n",
       "1  Ordina\\n4.0  Nieuwegein  Data Scientist                             \n",
       "\n",
       "                                  salaray_range                      size  \\\n",
       "0  Salaris opgegeven door werknemer:€ 3K - € 5K  1001 tot 5000 werknemers   \n",
       "1                    € 1K (Schatting werkgever)  1001 tot 5000 werknemers   \n",
       "\n",
       "  founded       type_of_ownership                    industry         sector  \\\n",
       "0    1720            Privébedrijf  Verzekeringsmaatschappijen  Verzekeringen   \n",
       "1    1973  Beursgenoteerd bedrijf            IT-ondersteuning             IT   \n",
       "\n",
       "                    revenue  \n",
       "0  Minder dan 1 miljoen USD  \n",
       "1       100-500 miljoen USD  "
      ]
     },
     "execution_count": 6,
     "metadata": {},
     "output_type": "execute_result"
    }
   ],
   "source": [
    "#This line will open a new chrome window and start the scraping.\n",
    "df = gws.get_jobs(\"data-science\", 2, False)\n",
    "df\n",
    "\n",
    "# filter op alleen goede regels?\n"
   ]
  }
 ],
 "metadata": {
  "interpreter": {
   "hash": "8e12f063e3023f5454ea59182edd40db95bcc703f474df7673d7d61c836de04b"
  },
  "kernelspec": {
   "display_name": "Python 3.10.6 ('ds_salary_predictor')",
   "language": "python",
   "name": "python3"
  },
  "language_info": {
   "codemirror_mode": {
    "name": "ipython",
    "version": 3
   },
   "file_extension": ".py",
   "mimetype": "text/x-python",
   "name": "python",
   "nbconvert_exporter": "python",
   "pygments_lexer": "ipython3",
   "version": "3.10.6"
  },
  "orig_nbformat": 4
 },
 "nbformat": 4,
 "nbformat_minor": 2
}
